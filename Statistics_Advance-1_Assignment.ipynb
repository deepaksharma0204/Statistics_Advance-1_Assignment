{
 "cells": [
  {
   "cell_type": "code",
   "execution_count": null,
   "id": "3864fbbe-f26b-4366-9a94-2ca6957ff79b",
   "metadata": {},
   "outputs": [],
   "source": [
    "# Q8: Question: You have two sets of data representing the incomes of two different professions:\n",
    "# Profession A: [48, 52, 55, 60, 62]\n",
    "# Profession B: [45, 50, 55, 52, 47] Perform an F-test to determine if the variances of the two professions' \n",
    "# incomes are equal. What are your conclusions based on the F-test?\n",
    "\n",
    "# Task: Use Python to calculate the F-statistic and p-value for the given data.\n",
    "\n",
    "# Objective: Gain experience in performing F-tests and interpreting the results in terms of variance comparison."
   ]
  },
  {
   "cell_type": "code",
   "execution_count": 2,
   "id": "502cd37d-3d35-45ee-8bf8-33a26d4468dc",
   "metadata": {},
   "outputs": [
    {
     "name": "stdout",
     "output_type": "stream",
     "text": [
      "F-statistic: 2.089171974522293\n",
      "p-value: 0.49304859900533904\n"
     ]
    }
   ],
   "source": [
    "# Ans: Here's the Python code to perform the F-test for comparing the variances of incomes between Profession A and Profession B:\n",
    "\n",
    "# python\n",
    "import numpy as np\n",
    "from scipy.stats import f\n",
    "\n",
    "# Given data\n",
    "profession_a = np.array([48, 52, 55, 60, 62])\n",
    "profession_b = np.array([45, 50, 55, 52, 47])\n",
    "\n",
    "# Step 1: Calculate sample variances\n",
    "var_a = np.var(profession_a, ddof=1)  # Sample variance of Profession A\n",
    "var_b = np.var(profession_b, ddof=1)  # Sample variance of Profession B\n",
    "\n",
    "# Step 2: Calculate the F-statistic (larger variance divided by smaller variance)\n",
    "if var_a > var_b:\n",
    "    f_statistic = var_a / var_b\n",
    "    dfn, dfd = len(profession_a) - 1, len(profession_b) - 1  # Degrees of freedom\n",
    "else:\n",
    "    f_statistic = var_b / var_a\n",
    "    dfn, dfd = len(profession_b) - 1, len(profession_a) - 1  # Degrees of freedom\n",
    "\n",
    "# Step 3: Calculate the p-value\n",
    "p_value = 2 * min(f.cdf(f_statistic, dfn, dfd), 1 - f.cdf(f_statistic, dfn, dfd))  # two-tailed p-value\n",
    "\n",
    "# Display the results\n",
    "print(\"F-statistic:\", f_statistic)\n",
    "print(\"p-value:\", p_value)\n",
    "\n",
    "### Explanation:\n",
    "# - **`np.var(data, ddof=1)`**: Calculates the sample variance (using `ddof=1` for an unbiased estimate).\n",
    "# - **F-statistic**: Calculated as the ratio of the larger variance to the smaller variance.\n",
    "# - **p-value**: A two-tailed p-value is computed by doubling the smaller of `f.cdf` values, which gives the probability of observing an F-statistic as extreme as the calculated one under the null hypothesis.\n",
    "\n",
    "# This code will output the F-statistic and p-value, allowing you to interpret whether there is a significant difference in variances."
   ]
  },
  {
   "cell_type": "code",
   "execution_count": null,
   "id": "23d79756-3ba1-4c93-ac45-99cb3e934e96",
   "metadata": {},
   "outputs": [],
   "source": [
    "# Q 9: Question: Conduct a one-way ANOVA to test whether there are any statistically significant differences in \n",
    "# average heights between three different regions with the following data1\n",
    "# Region A: [160, 162, 165, 158, 164'\n",
    "# Region B: [172, 175, 170, 168, 174'\n",
    "# Region C: [180, 182, 179, 185, 183'\n",
    "# Task: Write Python code to perform the one-way ANOVA and interpret the results\f",
    "\n",
    "# Objective: Learn how to perform one-way ANOVA using Python and interpret F-statistic and p-value"
   ]
  },
  {
   "cell_type": "code",
   "execution_count": 3,
   "id": "995ccb3f-4155-4bcf-8750-59c1944fe7ba",
   "metadata": {},
   "outputs": [
    {
     "name": "stdout",
     "output_type": "stream",
     "text": [
      "F-statistic: 67.87330316742101\n",
      "p-value: 2.870664187937026e-07\n",
      "Reject the null hypothesis: There are significant differences in average heights among the regions.\n"
     ]
    }
   ],
   "source": [
    "# Ans: To conduct a one-way ANOVA to test for statistically significant differences in average heights between the three different regions, we can use \n",
    "# Python's `scipy.stats` library. Here's how to set up the data and perform the one-way ANOVA:\n",
    "\n",
    "### Steps to Perform One-Way ANOVA:\n",
    "# 1. **Prepare the Data**: Organize the height data for each region into separate arrays.\n",
    "# 2. **Perform One-Way ANOVA**: Use the `f_oneway` function from the `scipy.stats` library.\n",
    "# 3. **Interpret the Results**: Examine the F-statistic and the p-value to determine if there are significant differences among the group means.\n",
    "\n",
    "### Given Data:\n",
    "# **Region A**: [160, 162, 165, 158, 164]\n",
    "# **Region B**: [172, 175, 170, 168, 174]\n",
    "# **Region C**: [180, 182, 179, 185, 183]\n",
    "\n",
    "### Python Code:\n",
    "# Here's the Python code to perform the one-way ANOVA and interpret the results:\n",
    "\n",
    "# python\n",
    "import numpy as np\n",
    "from scipy.stats import f_oneway\n",
    "\n",
    "# Given data for heights in different regions\n",
    "region_a = np.array([160, 162, 165, 158, 164])\n",
    "region_b = np.array([172, 175, 170, 168, 174])\n",
    "region_c = np.array([180, 182, 179, 185, 183])\n",
    "\n",
    "# Step 1: Perform one-way ANOVA\n",
    "f_statistic, p_value = f_oneway(region_a, region_b, region_c)\n",
    "\n",
    "# Step 2: Display the results\n",
    "print(\"F-statistic:\", f_statistic)\n",
    "print(\"p-value:\", p_value)\n",
    "\n",
    "# Step 3: Interpret the results\n",
    "alpha = 0.05  # significance level\n",
    "if p_value < alpha:\n",
    "    print(\"Reject the null hypothesis: There are significant differences in average heights among the regions.\")\n",
    "else:\n",
    "    print(\"Fail to reject the null hypothesis: No significant differences in average heights among the regions.\")\n",
    "\n",
    "### Interpretation of the Results:\n",
    "# - **F-statistic**: This value indicates the ratio of between-group variance to within-group variance. A larger F-statistic suggests that there are \n",
    "# greater differences among group means relative to the variation within each group.\n",
    "# - **p-value**: This value indicates the probability of observing the data given that the null hypothesis (no differences in means) is true. If the \n",
    "# p-value is less than the significance level (typically 0.05), we reject the null hypothesis, suggesting that there are significant differences among \n",
    "# the means.\n",
    "\n",
    "### Running the Code:\n",
    "# Once you run the code, it will provide you with the F-statistic and p-value, along with an interpretation of whether the differences in average \n",
    "# heights across the three regions are statistically significant."
   ]
  },
  {
   "cell_type": "code",
   "execution_count": null,
   "id": "96ae9b30-3dff-4d01-8284-409262167b76",
   "metadata": {},
   "outputs": [],
   "source": []
  }
 ],
 "metadata": {
  "kernelspec": {
   "display_name": "Python 3 (ipykernel)",
   "language": "python",
   "name": "python3"
  },
  "language_info": {
   "codemirror_mode": {
    "name": "ipython",
    "version": 3
   },
   "file_extension": ".py",
   "mimetype": "text/x-python",
   "name": "python",
   "nbconvert_exporter": "python",
   "pygments_lexer": "ipython3",
   "version": "3.12.4"
  }
 },
 "nbformat": 4,
 "nbformat_minor": 5
}
